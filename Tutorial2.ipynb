{
 "cells": [
  {
   "cell_type": "markdown",
   "id": "baa1178a-2cfd-48aa-b18f-040e59b9ec61",
   "metadata": {},
   "source": [
    "#Temporal preprocessing\n",
    "In this section, we explore how time-series preprocessing can significantly minimize statistical error. \n",
    "Slice-time correction\n",
    "\n",
    "##Slice-time correction\n",
    "It is a temporal resampling technique that corrects for the fact that, in (most) BOLD-MRI scan sequences, volumes are acquired slice by slice. This means that each slices is acquired at a slightly different time. "
   ]
  },
  {
   "cell_type": "code",
   "execution_count": null,
   "id": "f3fc0cb8-99bc-4bae-9044-2de1e92051c3",
   "metadata": {},
   "outputs": [],
   "source": []
  }
 ],
 "metadata": {
  "kernelspec": {
   "display_name": "Python 3 (ipykernel)",
   "language": "python",
   "name": "python3"
  },
  "language_info": {
   "codemirror_mode": {
    "name": "ipython",
    "version": 3
   },
   "file_extension": ".py",
   "mimetype": "text/x-python",
   "name": "python",
   "nbconvert_exporter": "python",
   "pygments_lexer": "ipython3",
   "version": "3.13.1"
  }
 },
 "nbformat": 4,
 "nbformat_minor": 5
}
